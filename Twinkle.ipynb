{
 "cells": [
  {
   "cell_type": "code",
   "execution_count": 7,
   "metadata": {},
   "outputs": [
    {
     "name": "stdout",
     "output_type": "stream",
     "text": [
      "The autoreload extension is already loaded. To reload it, use:\n",
      "  %reload_ext autoreload\n"
     ]
    }
   ],
   "source": [
    "import sys, os\n",
    "import json\n",
    "import numpy as np\n",
    "import matplotlib.pyplot as plt\n",
    "import twinkle\n",
    "\n",
    "%load_ext autoreload\n",
    "%autoreload 2\n"
   ]
  },
  {
   "cell_type": "markdown",
   "metadata": {},
   "source": [
    "#### INITIATE INTERACTIVE MATPLOTLIB PLOTTING"
   ]
  },
  {
   "cell_type": "markdown",
   "metadata": {},
   "source": [
    "##### If this doesn't work, change to \"%matplotlib inline\" and update both matplotlib and jupyter notebook to make nbagg backend to work"
   ]
  },
  {
   "cell_type": "code",
   "execution_count": 8,
   "metadata": {},
   "outputs": [],
   "source": [
    "%matplotlib nbagg"
   ]
  },
  {
   "cell_type": "markdown",
   "metadata": {},
   "source": [
    "# 1. Setup JSON file\n",
    "##### Change path to where you store your paramfile"
   ]
  },
  {
   "cell_type": "code",
   "execution_count": 9,
   "metadata": {},
   "outputs": [],
   "source": [
    "jfile = os.path.join(os.path.expanduser('~'),'Dropbox','Research','twinkle','sed_paramfile.json')\n",
    "#jfile = 'Users/rpatel/sed_paramfile.json'"
   ]
  },
  {
   "cell_type": "code",
   "execution_count": 10,
   "metadata": {},
   "outputs": [],
   "source": [
    "script = open(jfile).read()\n",
    "specs = json.loads(script)"
   ]
  },
  {
   "cell_type": "markdown",
   "metadata": {},
   "source": [
    "# 2.  Feed the json dictionary into twinkle with a starname"
   ]
  },
  {
   "cell_type": "code",
   "execution_count": 11,
   "metadata": {
    "scrolled": false
   },
   "outputs": [
    {
     "name": "stdout",
     "output_type": "stream",
     "text": [
      "Bands used to fit photosphere: [u'BJ' u'VJ' u'J2M' u'H2M' u'Ks2M' u'W1' u'W2']\n",
      "Bands used to scale photosphere: [u'BJ' u'VJ' u'J2M' u'H2M' u'Ks2M']\n",
      "chi2 = 5.78\n",
      "Fitted Stellar Radius: 2.253 Rsun\n",
      "Fitted Stellar Temperature: 8923 K\n"
     ]
    }
   ],
   "source": [
    "sname = 'Star_ID1'\n",
    "tauA = twinkle.Star(jfile, starname=sname)"
   ]
  },
  {
   "cell_type": "markdown",
   "metadata": {},
   "source": [
    "### Attributes of Instantiated Star object"
   ]
  },
  {
   "cell_type": "code",
   "execution_count": null,
   "metadata": {},
   "outputs": [],
   "source": [
    "dir(tauA)"
   ]
  },
  {
   "cell_type": "markdown",
   "metadata": {},
   "source": [
    "### AND THAT'S IT FOLKS! Your SED is lit!\n",
    "### Now Let's do some more, shall we?"
   ]
  },
  {
   "cell_type": "markdown",
   "metadata": {},
   "source": [
    "# 3. Plot Stellar SED"
   ]
  },
  {
   "cell_type": "markdown",
   "metadata": {},
   "source": [
    "### You can either plot the data with the built in \"plot_photosphere\" and \"plot_observedData\" functions, or access the global data."
   ]
  },
  {
   "cell_type": "code",
   "execution_count": null,
   "metadata": {
    "scrolled": false
   },
   "outputs": [],
   "source": [
    "import matplotlib.ticker as mtick\n",
    "\n",
    "# SET UP AXIS\n",
    "ax = plt.figure(figsize=(6,6)).add_subplot(111)\n",
    "\n",
    "# PLOT PHOTOSPHERIC AND LITERATURE DATA\n",
    "tauA.plot_photosphere(ax, pointsize=8,lcolor='blue',pcolor='blue',lw=.5)\n",
    "tauA.plot_observedData(ax, pointsize=8,lw=.8)\n",
    "\n",
    "# ADDITIONAL PLOT STUFF\n",
    "plt.loglog()\n",
    "#ax.set_xlim(.2,100)\n",
    "ax.set_ylim(1e-13,1e-6)\n",
    "ax.set_ylabel(r'$\\lambda F_{\\lambda}\\ [erg\\,\\ s^{-1}\\ cm^{-2}] $',fontsize=20, family='sans-serif')\n",
    "ax.set_xlabel(r'$\\lambda\\ [\\mu m]$', fontsize=20, family='sans-serif')\n",
    "plt.subplots_adjust(left=.19, right=.96, bottom=.15, top=.93)\n",
    "ax.xaxis.set_major_formatter(mtick.FormatStrFormatter('%d'))\n",
    "\n",
    "\n",
    "ax.annotate(r'{}'.format(tauA.starname), xy=(0.73, 0.53),xycoords='axes fraction',\n",
    "            fontsize=20, family='Times New Roman')\n",
    "\n",
    "ax.annotate(r'$T_* = {:.2f}$ K'.format(tauA.StarTemp), xy=(0.73, 0.47),\n",
    "            xycoords='axes fraction',fontsize=10, family='Times New Roman', color='blue')\n",
    "\n",
    "plt.show()"
   ]
  },
  {
   "cell_type": "markdown",
   "metadata": {
    "collapsed": true
   },
   "source": [
    "# 4. Add More To Star Object\n",
    "\n",
    "## 4.1 Let's add some far infrared data to the Star Object (tauA)"
   ]
  },
  {
   "cell_type": "code",
   "execution_count": null,
   "metadata": {},
   "outputs": [],
   "source": [
    "# SED TOOLS\n",
    "stoo = twinkle.STools"
   ]
  },
  {
   "cell_type": "code",
   "execution_count": null,
   "metadata": {},
   "outputs": [],
   "source": [
    "# OBTAIN ALL FAR-IR DATA FROM tauA.starsdat\n",
    "magextra = ['HPACS100','HPACS160','Akari90']\n",
    "\n",
    "HPACS160J, eHPACS160J = float(tauA.starsdat['fluxHPACS160']), float(tauA.starsdat['efluxHPACS160'])\n",
    "HPACS100J, eHPACS100J = float(tauA.starsdat['fluxHPACS100']), float(tauA.starsdat['efluxHPACS100'])\n",
    "Akari90J, eAkari90J = float(tauA.starsdat['fluxAkari90']), float(tauA.starsdat['efluxAkari90'])\n",
    "\n",
    "#CONVERT Jy TO ERG/S/CM^2/ANGSTROM AND ADD TO DICTIONARY\n",
    "for band in magextra:\n",
    "    # OBTAIN ISOPHOTOAL FREQUENCY OF BANDPASS\n",
    "    freq = eval('stoo.{}pband.isoFrequency()'.format(band))\n",
    "    fj,efj = eval('{}J'.format(band)), eval('e{}J'.format(band))\n",
    "    y, ey = np.array(stoo.Jy2cgs((freq,fj),(0,efj)))/ eval('stoo.%spband.isoWavelength()'%band)\n",
    "\n",
    "    # ADD WAVELENGTHS AND FLUXES TO tauA RELEVANT DICTIONARIES\n",
    "    tauA.wave[band] = eval('stoo.%spband.isoWavelength()'%band)\n",
    "    tauA.flux[band+'_flux'] = y\n",
    "    tauA.fluxerr[band+'_flux'] = ey\n",
    "      \n",
    "# GET PHOTOSPHERIC FLUXES     \n",
    "for band in magextra:\n",
    "    flxt = stoo.rsr_flux(getattr(stoo,'{}pband'.format(band)),*tauA.StarPhotosphere)[0]\n",
    "    tauA.photFlux[band] = flxt"
   ]
  },
  {
   "cell_type": "markdown",
   "metadata": {},
   "source": [
    "# 5. Calculate Excess IR Flux"
   ]
  },
  {
   "cell_type": "code",
   "execution_count": null,
   "metadata": {},
   "outputs": [],
   "source": [
    "# ADD FIR BAND STRINGS TO MAGS2USE\n",
    "# ADD RELEVANT BANDS FOR EXCESS FITTING TO mags4Dust\n",
    "print 'mag4Dust before adding FIR stuff:', tauA.mags4Dust\n",
    "for band in magextra:\n",
    "    tauA.mags2use.append(band)\n",
    "    tauA.mags4Dust.append(band)\n",
    "\n",
    "tauA.mags2use = list(np.unique(np.array(tauA.mags2use)))\n",
    "tauA.mags4Dust = list(np.unique(np.array(tauA.mags4Dust)))\n",
    "print 'mags2use', tauA.mags2use\n",
    "\n",
    "# CREATE NEW tauA DICTIONARY FOR EXCESS FLUX\n",
    "tauA.excessFlux = {}\n",
    "\n",
    "# CALCULATE EXCESS FLUX AND ADD TO TAUA\n",
    "for band in tauA.mags2use:\n",
    "    exflux = tauA.flux[band + '_flux'] - tauA.photFlux[band]\n",
    "    tauA.excessFlux[band+'_flux'] = exflux\n",
    "\n",
    "fluxEx = np.array(zip(*sorted(tauA.excessFlux.items()))[1])\n",
    "magsorder, waveEx = np.array(zip(*sorted(tauA.wave.items())))\n",
    "waveEx = waveEx.astype('float64')\n",
    "efluxEx = np.array(zip(*sorted(tauA.fluxerr.items()))[1])\n",
    "print 'mags4Dust after adding FIR stuff:', tauA.mags4Dust"
   ]
  },
  {
   "cell_type": "code",
   "execution_count": null,
   "metadata": {},
   "outputs": [],
   "source": [
    "# COLLECT ONLY > 10 MICRON DATA\n",
    "indfit = np.where(waveEx > 10 * twinkle._MICRON2ANG)[0]\n",
    "waveEx_fit = waveEx[indfit]\n",
    "fluxEx_fit = fluxEx[indfit] \n",
    "efluxEx_fit = efluxEx[indfit]\n",
    "tauA.mags4Dust = magsorder[indfit]"
   ]
  },
  {
   "cell_type": "markdown",
   "metadata": {},
   "source": [
    "## 5.1 Plot New SED With FAR - IR Data"
   ]
  },
  {
   "cell_type": "code",
   "execution_count": null,
   "metadata": {},
   "outputs": [],
   "source": [
    "# SET UP AXIS\n",
    "ax2 = plt.figure(figsize=(6,6)).add_subplot(111)\n",
    "tauA.plot_photosphere(ax2, pointsize=8,lcolor='blue',pcolor='blue',lw=0.5)\n",
    "tauA.plot_observedData(ax2,pointsize=8,lw=0.8)\n",
    "\n",
    "ax2.set_xlim(.2,300)\n",
    "ax2.set_ylim(1e-14,1e-6)\n",
    "ax2.set_ylabel(r'$\\lambda F_{\\lambda}\\ [erg\\,\\ s^{-1}\\ cm^{-2}] $',fontsize=20, family='sans-serif')\n",
    "ax2.set_xlabel(r'$\\lambda\\ [\\mu m]$', fontsize=20, family='sans-serif')\n",
    "plt.subplots_adjust(left=.19, right=.96, bottom=.15, top=.93)\n",
    "ax2.xaxis.set_major_formatter(mtick.FormatStrFormatter('%d'))\n",
    "ax2.annotate(r'{}'.format(tauA.starname), xy=(0.73, 0.67),xycoords='axes fraction',\n",
    "            fontsize=20, family='Times New Roman')\n",
    "ax2.annotate(r'$T_* = {:.2f}$ K'.format(tauA.StarTemp), xy=(0.73, 0.63),\n",
    "            xycoords='axes fraction',fontsize=10, family='Times New Roman', color='blue')\n",
    "ax2.xaxis.set_major_formatter(mtick.FormatStrFormatter('%d'))\n",
    "\n",
    "plt.loglog()\n",
    "plt.show()\n",
    "\n",
    "ax3 = plt.figure(figsize=(6,6)).add_subplot(111)\n",
    "ax3.set_title('Excess Flux')\n",
    "ax3.errorbar(waveEx_fit * twinkle._ANG2MICRON, waveEx_fit * fluxEx_fit,\n",
    "             yerr=waveEx_fit * efluxEx_fit, fmt='mD',ms=6)\n",
    "ax3.set_ylabel(r'$\\lambda F_{\\lambda}\\ [erg\\,\\ s^{-1}\\ cm^{-2}] $',fontsize=20, family='sans-serif')\n",
    "ax3.set_xlabel(r'$\\lambda\\ [\\mu m]$', fontsize=20, family='sans-serif')\n",
    "ax3.xaxis.set_major_formatter(mtick.FormatStrFormatter('%d'))\n",
    "plt.show()"
   ]
  },
  {
   "cell_type": "markdown",
   "metadata": {
    "collapsed": true
   },
   "source": [
    "# 6. FIT ONE TO TWO BLACKBODIES"
   ]
  },
  {
   "cell_type": "markdown",
   "metadata": {},
   "source": [
    "## 6.1 Try fitting 1 blackbody first"
   ]
  },
  {
   "cell_type": "code",
   "execution_count": null,
   "metadata": {},
   "outputs": [],
   "source": [
    "# FOR NOW, USING OLD FITTING ROUTINES. WILL EVENTUALLY SWITCH TO PANDAS\n",
    "# OR SCIPY\n",
    "import mosaic_tools as mt\n",
    "ft = mt.FittingTools()\n",
    "\n",
    "# ==============================================\n",
    "# INITIAL GUESS\n",
    "tempdust = 150.\n",
    "SEDx_ang = tauA.StarPhotosphere[0]\n",
    "bbdust = {}\n",
    "# ==============================================\n",
    "# CALCULATE BROADBAND PHOTOMETRY ACROSS IR EXCESS WAVELENGTHS\n",
    "for band in tauA.mags4Dust:\n",
    "    bbdust[band] = stoo.blackbody(SEDx_ang,np.array([tempdust]),1, np.array([band]))[0]\n",
    "bbdust_flux = np.array(zip(*sorted(bbdust.items()))[1]).flatten()\n",
    "\n",
    "FluxNorm_dust = np.average(fluxEx_fit / bbdust_flux,\n",
    "                           weights=1. / efluxEx_fit)\n",
    "# INITIAL GUESS FOR DUST RADIUS\n",
    "Rad_dust = np.sqrt(FluxNorm_dust / tauA.su2ea_dust)\n",
    "\n",
    "# for band in tauA.mags4Dust[0:2]:\n",
    "#     bbdust[band] = stoo.blackbody(tauA.StarPhotosphere[0],np.array([tempdust]),1, np.array([band]))[0]\n",
    "# bbdust_flux = np.array(zip(*sorted(bbdust.items()))[1]).flatten()\n",
    "\n",
    "\n",
    "# FluxNorm_dust = np.average(fluxEx_fit[-2:] / bbdust_flux,\n",
    "#                            weights=1. / efluxEx_fit[-2:])\n",
    "# Rad_dust = np.sqrt(FluxNorm_dust / tauA.su2ea_dust)\n",
    "\n"
   ]
  },
  {
   "cell_type": "code",
   "execution_count": null,
   "metadata": {},
   "outputs": [],
   "source": [
    "# FIT BLACKBODY\n",
    "p0_dust = np.array([tempdust, Rad_dust])\n",
    "nparams = 2\n",
    "fa_Dust = {'x': SEDx_ang, 'y': fluxEx_fit, 'err': efluxEx_fit,\n",
    "           'func': stoo.blackbody, 'su2ea1': tauA.su2ea_dust, 'bands': tauA.mags4Dust,'bulk':True}\n",
    "parinfo_dust = [{'value': 0., 'relstep': 0, 'limits': [0, 0], 'limited': [0, 0], 'fixed': 0} for m in\n",
    "                range(nparams)]\n",
    "for k in range(nparams): parinfo_dust[k]['value'] = p0_dust[k]\n",
    "parinfo_dust[0]['relstep'] = 0.3\n",
    "parinfo_dust[1]['relstep'] = 0.2\n",
    "parinfo_dust[0]['limited'] = [1,1]\n",
    "parinfo_dust[0]['limits'] = [10,500]\n",
    "\n",
    "m_dust = mt.mpfit(ft.deviates_from_model, parinfo=parinfo_dust, functkw=fa_Dust)#,quiet=1)\n",
    "\n",
    "# FIT BLACKBODY\n",
    "# p0_dust = np.array([tempdust, Rad_dust])\n",
    "# nparams = 2\n",
    "# fa_Dust = {'x': tauA.StarPhotosphere[0], 'y': fluxEx_fit[-2:], 'err': efluxEx_fit[-2:],\n",
    "#            'func': stoo.blackbody, 'su2ea1': tauA.su2ea_dust, 'bands': tauA.mags4Dust[0:2]}#,'bulk':True}\n",
    "# parinfo_dust = [{'value': 0., 'relstep': 0, 'limits': [0, 0], 'limited': [0, 0], 'fixed': 0} for m in\n",
    "#                 range(nparams)]\n",
    "# for k in range(nparams): parinfo_dust[k]['value'] = p0_dust[k]\n",
    "# parinfo_dust[0]['relstep'] = 0.3\n",
    "# parinfo_dust[1]['relstep'] = 0.2\n",
    "# parinfo_dust[0]['limited'] = [1,1]\n",
    "# parinfo_dust[0]['limits'] = [100,500]\n",
    "\n",
    "# m_dust = mt.mpfit(ft.deviates_from_model, parinfo=parinfo_dust, functkw=fa_Dust,quiet=1)\n",
    "\n"
   ]
  },
  {
   "cell_type": "markdown",
   "metadata": {},
   "source": [
    "### Print out Chi2 and dust temperatures"
   ]
  },
  {
   "cell_type": "code",
   "execution_count": null,
   "metadata": {},
   "outputs": [],
   "source": [
    "# CALCULATE SINGLE TEMP BLACKBODY FIT\n",
    "p0_dust,errors = m_dust.params, m_dust.perror\n",
    "chi2 = m_dust.fnorm/m_dust.dof\n",
    "print 'Chi2={:.2f}, T={:.1f}, Radius = {:.1f}'.format(chi2,*p0_dust) # , p0_dust, errors \n",
    "dust_flux = stoo.blackbody(SEDx_ang, p0_dust,tauA.su2ea_dust)"
   ]
  },
  {
   "cell_type": "markdown",
   "metadata": {},
   "source": [
    "## 6.2 Plot New SEDs With Fitted Blackbody"
   ]
  },
  {
   "cell_type": "code",
   "execution_count": null,
   "metadata": {},
   "outputs": [],
   "source": [
    "ax5 = plt.figure(figsize=(8,5)).add_subplot(111)\n",
    "tauA.plot_photosphere(ax5, pointsize=8,lcolor='blue',pcolor='blue',lw=0.5)\n",
    "tauA.fullspectrum = tauA.StarPhotosphere[1] + dust_flux\n",
    "plt.plot(SEDx_ang * twinkle._ANG2MICRON, dust_flux * SEDx_ang, 'm-', ls='--',lw=2)\n",
    "ax5.errorbar(waveEx_fit * twinkle._ANG2MICRON, waveEx_fit * fluxEx_fit, \n",
    "             yerr=waveEx_fit * efluxEx_fit, fmt='mD',ms=6)\n",
    "tauA.plot_observedData(ax5,pointsize=8,lw=1.5)\n",
    "ax5.set_title('Excess Flux + BLACKBODY')\n",
    "ax5.set_xlim(.2,300)\n",
    "ax5.set_ylim(1e-15,1e-6)\n",
    "ax5.set_ylabel(r'$\\lambda F_{\\lambda}\\ [erg\\,\\ s^{-1}\\ cm^{-2}] $',fontsize=20, family='sans-serif')\n",
    "ax5.set_xlabel(r'$\\lambda\\ [\\mu m]$', fontsize=20, family='sans-serif')\n",
    "plt.subplots_adjust(left=.19, right=.96, bottom=.15, top=.93)\n",
    "ax5.xaxis.set_major_formatter(mtick.FormatStrFormatter('%d'))\n",
    "ax5.annotate(r'{}'.format(tauA.starname), xy=(0.73, 0.67),xycoords='axes fraction',\n",
    "            fontsize=20, family='Times New Roman')\n",
    "ax5.annotate(r'$T_* = {:.2f}$ K'.format(tauA.StarTemp), xy=(0.73, 0.63),\n",
    "            xycoords='axes fraction',fontsize=10, family='Times New Roman', color='blue')\n",
    "ax5.xaxis.set_major_formatter(mtick.FormatStrFormatter('%d'))\n",
    "plt.loglog()\n",
    "\n",
    "# ===============================================================================================================\n",
    "ax4 = plt.figure(figsize=(8,5)).add_subplot(111)\n",
    "ax4.set_title('Excess Flux + BLACKBODY')\n",
    "ax4.errorbar(waveEx_fit * twinkle._ANG2MICRON, waveEx_fit * fluxEx_fit,\n",
    "             yerr=waveEx_fit * efluxEx_fit, fmt='mD',ms=6)\n",
    "ax4.plot(SEDx_ang * twinkle._ANG2MICRON, dust_flux * SEDx_ang,'m-',lw=2)\n",
    "ax4.set_ylabel(r'$\\lambda F_{\\lambda}\\ [erg\\,\\ s^{-1}\\ cm^{-2}] $',fontsize=20, family='sans-serif')\n",
    "ax4.set_xlabel(r'$\\lambda\\ [\\mu m]$', fontsize=20, family='sans-serif')\n",
    "plt.subplots_adjust(left=.19, right=.96, bottom=.15, top=.93)\n",
    "ax4.xaxis.set_major_formatter(mtick.FormatStrFormatter('%d'))\n",
    "ax4.set_xlim(8,300)\n",
    "ax4.set_ylim(1e-13,1e-9)\n",
    "\n",
    "plt.loglog()\n",
    "plt.show()"
   ]
  },
  {
   "cell_type": "code",
   "execution_count": null,
   "metadata": {},
   "outputs": [],
   "source": []
  }
 ],
 "metadata": {
  "kernelspec": {
   "display_name": "Python 2",
   "language": "python",
   "name": "python2"
  },
  "language_info": {
   "codemirror_mode": {
    "name": "ipython",
    "version": 2
   },
   "file_extension": ".py",
   "mimetype": "text/x-python",
   "name": "python",
   "nbconvert_exporter": "python",
   "pygments_lexer": "ipython2",
   "version": "2.7.10"
  }
 },
 "nbformat": 4,
 "nbformat_minor": 1
}
