{
 "cells": [
  {
   "cell_type": "code",
   "execution_count": 1,
   "metadata": {
    "collapsed": false
   },
   "outputs": [],
   "source": [
    "import sys, os, json\n",
    "import numpy as np\n",
    "import twinkle"
   ]
  },
  {
   "cell_type": "markdown",
   "metadata": {},
   "source": [
    "## Setup JSON file"
   ]
  },
  {
   "cell_type": "code",
   "execution_count": 2,
   "metadata": {
    "collapsed": false
   },
   "outputs": [],
   "source": [
    "jfile = os.path.join(os.path.expanduser('~'),'Dropbox','Research','sed_paramfile.json')"
   ]
  },
  {
   "cell_type": "markdown",
   "metadata": {},
   "source": [
    "## Instantiate Star Object"
   ]
  },
  {
   "cell_type": "markdown",
   "metadata": {},
   "source": [
    "### The star you want should be listed in the input file under the JSON parameter \"files\":\"stinfo_file\""
   ]
  },
  {
   "cell_type": "code",
   "execution_count": 3,
   "metadata": {
    "collapsed": false
   },
   "outputs": [
    {
     "name": "stdout",
     "output_type": "stream",
     "text": [
      "WARNING: reading as string array because float array failed\n",
      "-------------------------------\n",
      "      Loading All Gridmodels   \n",
      "Loaded NextGen of g=40, met=0\n",
      "Loaded NextGen of g=45, met=0\n",
      "       Done Loading Models     \n",
      "-------------------------------\n",
      "Bands used to fit photosphere: [u'BJ' u'VJ' u'J2M' u'H2M' u'Ks2M' u'W1' u'W2' u'W3' u'W2']\n",
      "Bands used to scale photosphere: [u'BJ' u'VJ' u'J2M' u'H2M' u'Ks2M' u'W1']\n"
     ]
    },
    {
     "name": "stderr",
     "output_type": "stream",
     "text": [
      "mosaic_tools.py:1693: RuntimeWarning: divide by zero encountered in log10\n",
      "  model_interp = intp.interp1d(np.log10(sublam), np.log10(subflx))\n",
      "/Users/rpatel/Documents/envs/py27/lib/python2.7/site-packages/numpy/core/fromnumeric.py:2652: VisibleDeprecationWarning: `rank` is deprecated; use the `ndim` attribute or function instead. To find the rank of a matrix see `numpy.linalg.matrix_rank`.\n",
      "  VisibleDeprecationWarning)\n"
     ]
    },
    {
     "name": "stdout",
     "output_type": "stream",
     "text": [
      "chi2 = 5.75\n",
      "Fitted Stellar Radius: 2.287 Rsun\n",
      "Fitted Stellar Temperature: 8839 K\n",
      "Photosphere for HIP20507 fit with T=8839.55988929 K\n"
     ]
    }
   ],
   "source": [
    "test_star = 'HIP20507'\n",
    "star1 = twinkle.StarObject(jfile,starname=test_star)"
   ]
  },
  {
   "cell_type": "code",
   "execution_count": 4,
   "metadata": {
    "collapsed": false
   },
   "outputs": [],
   "source": [
    "import matplotlib.pyplot as plt\n",
    "%matplotlib inline"
   ]
  },
  {
   "cell_type": "code",
   "execution_count": 8,
   "metadata": {
    "collapsed": false
   },
   "outputs": [
    {
     "data": {
      "image/png": "[encoded data removed]",
      "text/plain": [
       "<matplotlib.figure.Figure at 0x114626490>"
      ]
     },
     "metadata": {},
     "output_type": "display_data"
    }
   ],
   "source": [
    "ax = plt.figure(figsize=(8,8)).add_subplot(111)\n",
    "star1.plot_photosphere(ax,pointsize=10)\n",
    "#star1.plot_observedData(ax,pointsize=10)\n",
    "plt.loglog()\n",
    "plt.show()"
   ]
  }
 ],
 "metadata": {
  "kernelspec": {
   "display_name": "Python 2",
   "language": "python",
   "name": "python2"
  },
  "language_info": {
   "codemirror_mode": {
    "name": "ipython",
    "version": 2
   },
   "file_extension": ".py",
   "mimetype": "text/x-python",
   "name": "python",
   "nbconvert_exporter": "python",
   "pygments_lexer": "ipython2",
   "version": "2.7.10"
  },
  "widgets": {
   "state": {},
   "version": "1.1.1"
  }
 },
 "nbformat": 4,
 "nbformat_minor": 0
}
